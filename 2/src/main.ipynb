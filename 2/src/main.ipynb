{
 "cells": [
  {
   "cell_type": "markdown",
   "id": "5f14085b-0a0f-42b7-aacc-ec649415555d",
   "metadata": {},
   "source": [
    "# Day 2\n",
    "\n",
    "The first section is solution setup with a test input\n",
    "\n",
    "## Problem statement\n",
    "\n",
    "--- Day 2: Cube Conundrum ---\n",
    "You're launched high into the atmosphere! The apex of your trajectory just barely reaches the surface of a large island floating in the sky. You gently land in a fluffy pile of leaves. It's quite cold, but you don't see much snow. An Elf runs over to greet you.\n",
    "\n",
    "The Elf explains that you've arrived at Snow Island and apologizes for the lack of snow. He'll be happy to explain the situation, but it's a bit of a walk, so you have some time. They don't get many visitors up here; would you like to play a game in the meantime?\n",
    "\n",
    "As you walk, the Elf shows you a small bag and some cubes which are either red, green, or blue. Each time you play this game, he will hide a secret number of cubes of each color in the bag, and your goal is to figure out information about the number of cubes.\n",
    "\n",
    "To get information, once a bag has been loaded with cubes, the Elf will reach into the bag, grab a handful of random cubes, show them to you, and then put them back in the bag. He'll do this a few times per game.\n",
    "\n",
    "You play several games and record the information from each game (your puzzle input). Each game is listed with its ID number (like the 11 in Game 11: ...) followed by a semicolon-separated list of subsets of cubes that were revealed from the bag (like 3 red, 5 green, 4 blue).\n",
    "\n",
    "For example, the record of a few games might look like this:\n",
    "\n",
    "Game 1: 3 blue, 4 red; 1 red, 2 green, 6 blue; 2 green\n",
    "Game 2: 1 blue, 2 green; 3 green, 4 blue, 1 red; 1 green, 1 blue\n",
    "Game 3: 8 green, 6 blue, 20 red; 5 blue, 4 red, 13 green; 5 green, 1 red\n",
    "Game 4: 1 green, 3 red, 6 blue; 3 green, 6 red; 3 green, 15 blue, 14 red\n",
    "Game 5: 6 red, 1 blue, 3 green; 2 blue, 1 red, 2 green\n",
    "In game 1, three sets of cubes are revealed from the bag (and then put back again). The first set is 3 blue cubes and 4 red cubes; the second set is 1 red cube, 2 green cubes, and 6 blue cubes; the third set is only 2 green cubes.\n",
    "\n",
    "The Elf would first like to know which games would have been possible if the bag contained only 12 red cubes, 13 green cubes, and 14 blue cubes?\n",
    "\n",
    "In the example above, games 1, 2, and 5 would have been possible if the bag had been loaded with that configuration. However, game 3 would have been impossible because at one point the Elf showed you 20 red cubes at once; similarly, game 4 would also have been impossible because the Elf showed you 15 blue cubes at once. If you add up the IDs of the games that would have been possible, you get 8.\n",
    "\n",
    "Determine which games would have been possible if the bag had been loaded with only 12 red cubes, 13 green cubes, and 14 blue cubes. What is the sum of the IDs of those games?"
   ]
  },
  {
   "cell_type": "code",
   "execution_count": null,
   "id": "094b75a4-c52d-4770-9c1b-3b78b3477538",
   "metadata": {},
   "outputs": [],
   "source": [
    "test_input = \"\"\"Game 1: 3 blue, 4 red; 1 red, 2 green, 6 blue; 2 green\n",
    "Game 2: 1 blue, 2 green; 3 green, 4 blue, 1 red; 1 green, 1 blue\n",
    "Game 3: 8 green, 6 blue, 20 red; 5 blue, 4 red, 13 green; 5 green, 1 red\n",
    "Game 4: 1 green, 3 red, 6 blue; 3 green, 6 red; 3 green, 15 blue, 14 red\n",
    "Game 5: 6 red, 1 blue, 3 green; 2 blue, 1 red, 2 green\n",
    "\"\"\""
   ]
  },
  {
   "cell_type": "code",
   "execution_count": null,
   "id": "fc793adb-2410-48de-9d11-8686d27175de",
   "metadata": {},
   "outputs": [],
   "source": [
    "from typing import List\n",
    "from dataclasses import dataclass\n",
    "import re\n",
    "\n",
    "@dataclass\n",
    "class Constraints():\n",
    "    red: int\n",
    "    green: int\n",
    "    blue: int\n",
    "\n",
    "@dataclass\n",
    "class CubeSubset:\n",
    "    red: int\n",
    "    green: int\n",
    "    blue: int\n",
    "\n",
    "@dataclass\n",
    "class CubeGame:\n",
    "    game_id: int\n",
    "    subsets: List[CubeSubset]\n",
    "\n",
    "    def add_subset(self, subset: CubeSubset) -> None:\n",
    "        self.subsets.append(subset)\n",
    "\n",
    "    def is_within_constraints(self, constraints: Constraints) -> bool:\n",
    "        for subset in self.subsets:\n",
    "            if any([subset.red   > constraints.red, \n",
    "                    subset.blue  > constraints.blue, \n",
    "                    subset.green > constraints.green]):\n",
    "                return False\n",
    "\n",
    "        return True\n",
    "\n",
    "    def min_required_cubes(self) -> Constraints:\n",
    "        \"\"\"Find the minimum required cubes of each color for this game to be possible\"\"\"\n",
    "        red, green, blue = 0, 0, 0\n",
    "        for subset in self.subsets:\n",
    "            if subset.red > red:\n",
    "                red = subset.red\n",
    "            if subset.green > green:\n",
    "                green = subset.green\n",
    "            if subset.blue > blue:\n",
    "                blue = subset.blue\n",
    "\n",
    "        return Constraints(red=red, green=green, blue=blue)\n",
    "\n",
    "def parse_input(input: str) -> List[CubeGame]:\n",
    "    \"\"\"Parse puzzle input to dataclasses\"\"\"\n",
    "    cube_games: List[CubeGame] = []\n",
    "    \n",
    "    games = [x for x in input.split(\"\\n\") if x != \"\"]\n",
    "\n",
    "    for game in games:\n",
    "        # Find game ID\n",
    "        id_regex = re.compile(r\"^\\w* (\\d*):.*$\") # Game n:...\n",
    "        game_ids = id_regex.findall(game)\n",
    "        assert len(game_ids) == 1, f\"game_ids count != 1: {game_ids}\\n{game}\"\n",
    "        game_id = game_ids[0]\n",
    "        \n",
    "        # Find subsets\n",
    "        subsets_only = game.split(\": \")[1]\n",
    "        subsets = subsets_only.split(\";\")\n",
    "\n",
    "        # Got it right?\n",
    "        #print(game, \"\\n\", \"id: \", game_id, \"\\n\", subsets)\n",
    "\n",
    "        cube_game = CubeGame(game_id=int(game_id), subsets=list())\n",
    "        \n",
    "        for subset in subsets:\n",
    "            red, green, blue = 0, 0, 0\n",
    "            \n",
    "            colors = [x.strip() for x in subset.split(\",\")]\n",
    "            for color in colors:\n",
    "                if \"red\" in color:\n",
    "                    red = int(color.split(\" \")[0])\n",
    "                if \"green\" in color:\n",
    "                    green = int(color.split(\" \")[0])\n",
    "                if \"blue\" in color:\n",
    "                    blue = int(color.split(\" \")[0])\n",
    "            \n",
    "            cube_subset = CubeSubset(red=red, green=green, blue=blue)\n",
    "            cube_game.add_subset(cube_subset)\n",
    "\n",
    "        #print(cube_game)\n",
    "        cube_games.append(cube_game)\n",
    "    \n",
    "    return cube_games"
   ]
  },
  {
   "cell_type": "code",
   "execution_count": null,
   "id": "6d6d4b7c-a4ef-4dd3-a0e4-24dd6bdc8f3b",
   "metadata": {},
   "outputs": [],
   "source": [
    "cube_games = parse_input(test_input)"
   ]
  },
  {
   "cell_type": "code",
   "execution_count": null,
   "id": "d556bbc4-309e-4d51-aea0-aa39a0da8dd3",
   "metadata": {},
   "outputs": [],
   "source": [
    "constraints = Constraints(\n",
    "    red=12,\n",
    "    green=13,\n",
    "    blue=14\n",
    ")"
   ]
  },
  {
   "cell_type": "code",
   "execution_count": null,
   "id": "8ad8f98a-04b6-4f8e-8f1c-2153ab466944",
   "metadata": {},
   "outputs": [],
   "source": [
    "def get_valid_games_ids(cube_games: List[CubeGame], constraints: Constraints) -> List[int]:\n",
    "    \"\"\"Get the list of game IDs that are valid within constraints\"\"\"\n",
    "\n",
    "    valid_games: List[CubeGame] = []\n",
    "    for game in cube_games:\n",
    "        if not game.is_within_constraints(constraints):\n",
    "            continue\n",
    "\n",
    "        valid_games.append(game)\n",
    "\n",
    "    return [x.game_id for x in valid_games]"
   ]
  },
  {
   "cell_type": "code",
   "execution_count": null,
   "id": "06da13a5-c47e-4e76-bc0c-4c3e60d17bff",
   "metadata": {},
   "outputs": [],
   "source": [
    "valid_game_ids = get_valid_games_ids(cube_games, constraints)"
   ]
  },
  {
   "cell_type": "code",
   "execution_count": null,
   "id": "712e8193-8b73-47c0-aa7d-82c10b40f0aa",
   "metadata": {},
   "outputs": [],
   "source": [
    "solution = sum(valid_game_ids)"
   ]
  },
  {
   "cell_type": "code",
   "execution_count": null,
   "id": "439c65bd-783e-491b-93f3-794eaf4d57ca",
   "metadata": {},
   "outputs": [],
   "source": [
    "print(solution)"
   ]
  },
  {
   "cell_type": "markdown",
   "id": "f2934c10-3467-42bd-9b95-bf8d8ade2a62",
   "metadata": {},
   "source": [
    "## Real solution\n",
    "\n",
    "Next comes the real solution, ensure `../input.txt` is downloaded to working directory from https://adventofcode.com/2023/day/2/input"
   ]
  },
  {
   "cell_type": "code",
   "execution_count": null,
   "id": "e97c8680-9ab1-40bb-a833-fd5995bd2e1f",
   "metadata": {},
   "outputs": [],
   "source": [
    "input_contents = \"\"\n",
    "with open(\"../input.txt\", \"r\") as f:\n",
    "    input_contents = f.read()\n",
    "\n",
    "real_input_games = parse_input(input_contents)\n",
    "\n",
    "valid = get_valid_games_ids(real_input_games, constraints)\n",
    "\n",
    "part_1_solution = sum(valid)\n",
    "print(part_1_solution)"
   ]
  },
  {
   "cell_type": "markdown",
   "id": "0a729465-cea3-47a6-9a50-a0a671fc8c28",
   "metadata": {},
   "source": [
    "## Part 2\n",
    "\n",
    "--- Part Two ---\n",
    "The Elf says they've stopped producing snow because they aren't getting any water! He isn't sure why the water stopped; however, he can show you how to get to the water source to check it out for yourself. It's just up ahead!\n",
    "\n",
    "As you continue your walk, the Elf poses a second question: in each game you played, what is the fewest number of cubes of each color that could have been in the bag to make the game possible?\n",
    "\n",
    "Again consider the example games from earlier:\n",
    "\n",
    "Game 1: 3 blue, 4 red; 1 red, 2 green, 6 blue; 2 green\n",
    "Game 2: 1 blue, 2 green; 3 green, 4 blue, 1 red; 1 green, 1 blue\n",
    "Game 3: 8 green, 6 blue, 20 red; 5 blue, 4 red, 13 green; 5 green, 1 red\n",
    "Game 4: 1 green, 3 red, 6 blue; 3 green, 6 red; 3 green, 15 blue, 14 red\n",
    "Game 5: 6 red, 1 blue, 3 green; 2 blue, 1 red, 2 green\n",
    "In game 1, the game could have been played with as few as 4 red, 2 green, and 6 blue cubes. If any color had even one fewer cube, the game would have been impossible.\n",
    "Game 2 could have been played with a minimum of 1 red, 3 green, and 4 blue cubes.\n",
    "Game 3 must have been played with at least 20 red, 13 green, and 6 blue cubes.\n",
    "Game 4 required at least 14 red, 3 green, and 15 blue cubes.\n",
    "Game 5 needed no fewer than 6 red, 3 green, and 2 blue cubes in the bag.\n",
    "The power of a set of cubes is equal to the numbers of red, green, and blue cubes multiplied together. The power of the minimum set of cubes in game 1 is 48. In games 2-5 it was 12, 1560, 630, and 36, respectively. Adding up these five powers produces the sum 2286.\n",
    "\n",
    "For each game, find the minimum set of cubes that must have been present. What is the sum of the power of these sets?"
   ]
  },
  {
   "cell_type": "code",
   "execution_count": null,
   "id": "809ef7fd-d731-4640-bc03-9eaaea1a1d01",
   "metadata": {},
   "outputs": [],
   "source": [
    "powers = 0\n",
    "\n",
    "for cube_game in cube_games:\n",
    "    print(cube_game)\n",
    "    min_required = cube_game.min_required_cubes()\n",
    "    print(min_required)\n",
    "    game_power = min_required.red * min_required.green * min_required.blue\n",
    "    print(game_power)\n",
    "    powers += game_power\n",
    "\n",
    "print(\"test solution:\", powers)"
   ]
  },
  {
   "cell_type": "markdown",
   "id": "cd003c1b-face-4004-b720-746ca3353f2a",
   "metadata": {},
   "source": [
    "## Real solution\n",
    "Next comes the real solution, ensure `../input.txt` is downloaded to working directory from https://adventofcode.com/2023/day/2/input"
   ]
  },
  {
   "cell_type": "code",
   "execution_count": null,
   "id": "1b3bdca4-57da-4615-b6b8-75e1c1279632",
   "metadata": {},
   "outputs": [],
   "source": [
    "power_sum = 0\n",
    "\n",
    "for cube_game in real_input_games:\n",
    "    min_required = cube_game.min_required_cubes()\n",
    "    game_power = min_required.red * min_required.green * min_required.blue\n",
    "    power_sum += game_power\n",
    "\n",
    "print(power_sum)"
   ]
  },
  {
   "cell_type": "code",
   "execution_count": null,
   "id": "6b09d337-d549-4f2e-9465-207e7ca552eb",
   "metadata": {},
   "outputs": [],
   "source": []
  }
 ],
 "metadata": {
  "kernelspec": {
   "display_name": "Python 3 (ipykernel)",
   "language": "python",
   "name": "python3"
  },
  "language_info": {
   "codemirror_mode": {
    "name": "ipython",
    "version": 3
   },
   "file_extension": ".py",
   "mimetype": "text/x-python",
   "name": "python",
   "nbconvert_exporter": "python",
   "pygments_lexer": "ipython3",
   "version": "3.10.12"
  }
 },
 "nbformat": 4,
 "nbformat_minor": 5
}
